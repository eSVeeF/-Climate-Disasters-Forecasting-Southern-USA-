{
 "cells": [
  {
   "cell_type": "code",
   "execution_count": 1,
   "metadata": {},
   "outputs": [],
   "source": [
    "import pandas as pd\n",
    "import os\n",
    "\n",
    "# Folder containing the CSV files\n",
    "folder_path = os.getcwd()\n",
    "\n",
    "# Get a list of all CSV files in the folder, excluding 'full_all_predictions.csv' (in case the csv where already joined)\n",
    "csv_files = [f for f in os.listdir(folder_path) if f.endswith('.csv') and f != 'full_all_predictions.csv']\n",
    "\n",
    "\n",
    "# Initialize a list to hold DataFrames\n",
    "dataframes = []\n",
    "\n",
    "# Read each CSV file into a DataFrame\n",
    "for file in csv_files:\n",
    "    file_path = os.path.join(folder_path, file)\n",
    "    df = pd.read_csv(file_path)\n",
    "    \n",
    "    # Ensure the DATE column is in datetime format\n",
    "    if 'DATE' in df.columns:\n",
    "        df['DATE'] = pd.to_datetime(df['DATE'])\n",
    "\n",
    "    # Drop unnecessary columns\n",
    "    df = df.loc[:, ~df.columns.str.contains('^Unnamed')]\n",
    "     \n",
    "    dataframes.append(df)\n",
    "\n",
    "# Perform outer join on the DATE column\n",
    "merged_df = dataframes[0]\n",
    "for df in dataframes[1:]:\n",
    "    merged_df = pd.merge(merged_df, df, on='DATE', how='outer')\n",
    "    \n",
    "# Sort the merged DataFrame by DATE\n",
    "merged_df = merged_df.sort_values(by='DATE')\n",
    "merged_df.to_csv(\"full_all_predictions.csv\", index=False)\n"
   ]
  }
 ],
 "metadata": {
  "kernelspec": {
   "display_name": "Python 3",
   "language": "python",
   "name": "python3"
  },
  "language_info": {
   "codemirror_mode": {
    "name": "ipython",
    "version": 3
   },
   "file_extension": ".py",
   "mimetype": "text/x-python",
   "name": "python",
   "nbconvert_exporter": "python",
   "pygments_lexer": "ipython3",
   "version": "3.12.2"
  }
 },
 "nbformat": 4,
 "nbformat_minor": 2
}
